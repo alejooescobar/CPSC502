{
 "cells": [
  {
   "cell_type": "markdown",
   "metadata": {},
   "source": [
    "### Installing Required Libraries"
   ]
  },
  {
   "cell_type": "code",
   "execution_count": 9,
   "metadata": {},
   "outputs": [
    {
     "name": "stdout",
     "output_type": "stream",
     "text": [
      "Requirement already satisfied: numpy in c:\\users\\alejo\\appdata\\local\\programs\\python\\python310\\lib\\site-packages (1.23.4)\n",
      "Requirement already satisfied: pandas in c:\\users\\alejo\\appdata\\local\\programs\\python\\python310\\lib\\site-packages (1.5.1)\n",
      "Requirement already satisfied: matplotlib in c:\\users\\alejo\\appdata\\local\\programs\\python\\python310\\lib\\site-packages (3.6.2)\n",
      "Requirement already satisfied: seaborn in c:\\users\\alejo\\appdata\\local\\programs\\python\\python310\\lib\\site-packages (0.12.1)\n",
      "Requirement already satisfied: ipython in c:\\users\\alejo\\appdata\\roaming\\python\\python310\\site-packages (8.6.0)\n",
      "Requirement already satisfied: jupyterlab in c:\\users\\alejo\\appdata\\local\\programs\\python\\python310\\lib\\site-packages (3.5.0)\n",
      "Requirement already satisfied: Pillow in c:\\users\\alejo\\appdata\\local\\programs\\python\\python310\\lib\\site-packages (9.3.0)\n",
      "Requirement already satisfied: pyscreenshot in c:\\users\\alejo\\appdata\\local\\programs\\python\\python310\\lib\\site-packages (3.0)\n",
      "Requirement already satisfied: tensorflow in c:\\users\\alejo\\appdata\\local\\programs\\python\\python310\\lib\\site-packages (2.10.0)\n",
      "Requirement already satisfied: scikit-learn in c:\\users\\alejo\\appdata\\local\\programs\\python\\python310\\lib\\site-packages (1.1.3)\n",
      "Requirement already satisfied: pytz>=2020.1 in c:\\users\\alejo\\appdata\\local\\programs\\python\\python310\\lib\\site-packages (from pandas) (2022.6)\n",
      "Requirement already satisfied: python-dateutil>=2.8.1 in c:\\users\\alejo\\appdata\\roaming\\python\\python310\\site-packages (from pandas) (2.8.2)\n",
      "Requirement already satisfied: packaging>=20.0 in c:\\users\\alejo\\appdata\\roaming\\python\\python310\\site-packages (from matplotlib) (21.3)\n",
      "Requirement already satisfied: cycler>=0.10 in c:\\users\\alejo\\appdata\\local\\programs\\python\\python310\\lib\\site-packages (from matplotlib) (0.11.0)\n",
      "Requirement already satisfied: fonttools>=4.22.0 in c:\\users\\alejo\\appdata\\local\\programs\\python\\python310\\lib\\site-packages (from matplotlib) (4.38.0)\n",
      "Requirement already satisfied: contourpy>=1.0.1 in c:\\users\\alejo\\appdata\\local\\programs\\python\\python310\\lib\\site-packages (from matplotlib) (1.0.6)\n",
      "Requirement already satisfied: kiwisolver>=1.0.1 in c:\\users\\alejo\\appdata\\local\\programs\\python\\python310\\lib\\site-packages (from matplotlib) (1.4.4)\n",
      "Requirement already satisfied: pyparsing>=2.2.1 in c:\\users\\alejo\\appdata\\roaming\\python\\python310\\site-packages (from matplotlib) (3.0.9)\n",
      "Requirement already satisfied: traitlets>=5 in c:\\users\\alejo\\appdata\\roaming\\python\\python310\\site-packages (from ipython) (5.5.0)\n",
      "Requirement already satisfied: decorator in c:\\users\\alejo\\appdata\\roaming\\python\\python310\\site-packages (from ipython) (5.1.1)\n",
      "Requirement already satisfied: jedi>=0.16 in c:\\users\\alejo\\appdata\\roaming\\python\\python310\\site-packages (from ipython) (0.18.1)\n",
      "Requirement already satisfied: prompt-toolkit<3.1.0,>3.0.1 in c:\\users\\alejo\\appdata\\roaming\\python\\python310\\site-packages (from ipython) (3.0.32)\n",
      "Requirement already satisfied: backcall in c:\\users\\alejo\\appdata\\roaming\\python\\python310\\site-packages (from ipython) (0.2.0)\n",
      "Requirement already satisfied: stack-data in c:\\users\\alejo\\appdata\\roaming\\python\\python310\\site-packages (from ipython) (0.6.0)\n",
      "Requirement already satisfied: pygments>=2.4.0 in c:\\users\\alejo\\appdata\\roaming\\python\\python310\\site-packages (from ipython) (2.13.0)\n",
      "Requirement already satisfied: colorama in c:\\users\\alejo\\appdata\\roaming\\python\\python310\\site-packages (from ipython) (0.4.6)\n",
      "Requirement already satisfied: matplotlib-inline in c:\\users\\alejo\\appdata\\roaming\\python\\python310\\site-packages (from ipython) (0.1.6)\n",
      "Requirement already satisfied: pickleshare in c:\\users\\alejo\\appdata\\roaming\\python\\python310\\site-packages (from ipython) (0.7.5)\n",
      "Requirement already satisfied: tornado>=6.1.0 in c:\\users\\alejo\\appdata\\roaming\\python\\python310\\site-packages (from jupyterlab) (6.2)\n",
      "Requirement already satisfied: jupyter-core in c:\\users\\alejo\\appdata\\roaming\\python\\python310\\site-packages (from jupyterlab) (4.11.2)\n",
      "Requirement already satisfied: notebook<7 in c:\\users\\alejo\\appdata\\local\\programs\\python\\python310\\lib\\site-packages (from jupyterlab) (6.5.2)\n",
      "Requirement already satisfied: jupyterlab-server~=2.10 in c:\\users\\alejo\\appdata\\local\\programs\\python\\python310\\lib\\site-packages (from jupyterlab) (2.16.2)\n",
      "Requirement already satisfied: jinja2>=2.1 in c:\\users\\alejo\\appdata\\local\\programs\\python\\python310\\lib\\site-packages (from jupyterlab) (3.1.2)\n",
      "Requirement already satisfied: nbclassic in c:\\users\\alejo\\appdata\\local\\programs\\python\\python310\\lib\\site-packages (from jupyterlab) (0.4.8)\n",
      "Requirement already satisfied: jupyter-server<3,>=1.16.0 in c:\\users\\alejo\\appdata\\local\\programs\\python\\python310\\lib\\site-packages (from jupyterlab) (1.23.0)\n",
      "Requirement already satisfied: tomli in c:\\users\\alejo\\appdata\\local\\programs\\python\\python310\\lib\\site-packages (from jupyterlab) (2.0.1)\n",
      "Requirement already satisfied: entrypoint2 in c:\\users\\alejo\\appdata\\local\\programs\\python\\python310\\lib\\site-packages (from pyscreenshot) (1.1)\n",
      "Requirement already satisfied: EasyProcess in c:\\users\\alejo\\appdata\\local\\programs\\python\\python310\\lib\\site-packages (from pyscreenshot) (1.1)\n",
      "Requirement already satisfied: mss in c:\\users\\alejo\\appdata\\local\\programs\\python\\python310\\lib\\site-packages (from pyscreenshot) (7.0.1)\n",
      "Requirement already satisfied: tensorboard<2.11,>=2.10 in c:\\users\\alejo\\appdata\\local\\programs\\python\\python310\\lib\\site-packages (from tensorflow) (2.10.1)\n",
      "Requirement already satisfied: tensorflow-io-gcs-filesystem>=0.23.1 in c:\\users\\alejo\\appdata\\local\\programs\\python\\python310\\lib\\site-packages (from tensorflow) (0.27.0)\n",
      "Requirement already satisfied: opt-einsum>=2.3.2 in c:\\users\\alejo\\appdata\\local\\programs\\python\\python310\\lib\\site-packages (from tensorflow) (3.3.0)\n",
      "Requirement already satisfied: google-pasta>=0.1.1 in c:\\users\\alejo\\appdata\\local\\programs\\python\\python310\\lib\\site-packages (from tensorflow) (0.2.0)\n",
      "Requirement already satisfied: h5py>=2.9.0 in c:\\users\\alejo\\appdata\\local\\programs\\python\\python310\\lib\\site-packages (from tensorflow) (3.7.0)\n",
      "Requirement already satisfied: setuptools in c:\\users\\alejo\\appdata\\local\\programs\\python\\python310\\lib\\site-packages (from tensorflow) (58.1.0)\n",
      "Requirement already satisfied: protobuf<3.20,>=3.9.2 in c:\\users\\alejo\\appdata\\local\\programs\\python\\python310\\lib\\site-packages (from tensorflow) (3.19.6)\n",
      "Requirement already satisfied: grpcio<2.0,>=1.24.3 in c:\\users\\alejo\\appdata\\local\\programs\\python\\python310\\lib\\site-packages (from tensorflow) (1.50.0)\n",
      "Requirement already satisfied: absl-py>=1.0.0 in c:\\users\\alejo\\appdata\\local\\programs\\python\\python310\\lib\\site-packages (from tensorflow) (1.3.0)\n",
      "Requirement already satisfied: six>=1.12.0 in c:\\users\\alejo\\appdata\\roaming\\python\\python310\\site-packages (from tensorflow) (1.16.0)\n",
      "Requirement already satisfied: keras-preprocessing>=1.1.1 in c:\\users\\alejo\\appdata\\local\\programs\\python\\python310\\lib\\site-packages (from tensorflow) (1.1.2)\n",
      "Requirement already satisfied: typing-extensions>=3.6.6 in c:\\users\\alejo\\appdata\\local\\programs\\python\\python310\\lib\\site-packages (from tensorflow) (4.4.0)\n",
      "Requirement already satisfied: flatbuffers>=2.0 in c:\\users\\alejo\\appdata\\local\\programs\\python\\python310\\lib\\site-packages (from tensorflow) (22.10.26)\n",
      "Requirement already satisfied: libclang>=13.0.0 in c:\\users\\alejo\\appdata\\local\\programs\\python\\python310\\lib\\site-packages (from tensorflow) (14.0.6)\n",
      "Requirement already satisfied: astunparse>=1.6.0 in c:\\users\\alejo\\appdata\\local\\programs\\python\\python310\\lib\\site-packages (from tensorflow) (1.6.3)\n",
      "Requirement already satisfied: termcolor>=1.1.0 in c:\\users\\alejo\\appdata\\local\\programs\\python\\python310\\lib\\site-packages (from tensorflow) (2.1.0)\n",
      "Requirement already satisfied: wrapt>=1.11.0 in c:\\users\\alejo\\appdata\\local\\programs\\python\\python310\\lib\\site-packages (from tensorflow) (1.14.1)\n",
      "Requirement already satisfied: gast<=0.4.0,>=0.2.1 in c:\\users\\alejo\\appdata\\local\\programs\\python\\python310\\lib\\site-packages (from tensorflow) (0.4.0)\n",
      "Requirement already satisfied: tensorflow-estimator<2.11,>=2.10.0 in c:\\users\\alejo\\appdata\\local\\programs\\python\\python310\\lib\\site-packages (from tensorflow) (2.10.0)\n",
      "Requirement already satisfied: keras<2.11,>=2.10.0 in c:\\users\\alejo\\appdata\\local\\programs\\python\\python310\\lib\\site-packages (from tensorflow) (2.10.0)\n",
      "Requirement already satisfied: joblib>=1.0.0 in c:\\users\\alejo\\appdata\\local\\programs\\python\\python310\\lib\\site-packages (from scikit-learn) (1.2.0)\n",
      "Requirement already satisfied: scipy>=1.3.2 in c:\\users\\alejo\\appdata\\local\\programs\\python\\python310\\lib\\site-packages (from scikit-learn) (1.9.3)\n",
      "Requirement already satisfied: threadpoolctl>=2.0.0 in c:\\users\\alejo\\appdata\\local\\programs\\python\\python310\\lib\\site-packages (from scikit-learn) (3.1.0)\n",
      "Requirement already satisfied: wheel<1.0,>=0.23.0 in c:\\users\\alejo\\appdata\\local\\programs\\python\\python310\\lib\\site-packages (from astunparse>=1.6.0->tensorflow) (0.38.3)\n",
      "Requirement already satisfied: parso<0.9.0,>=0.8.0 in c:\\users\\alejo\\appdata\\roaming\\python\\python310\\site-packages (from jedi>=0.16->ipython) (0.8.3)\n",
      "Requirement already satisfied: MarkupSafe>=2.0 in c:\\users\\alejo\\appdata\\local\\programs\\python\\python310\\lib\\site-packages (from jinja2>=2.1->jupyterlab) (2.1.1)\n",
      "Requirement already satisfied: anyio<4,>=3.1.0 in c:\\users\\alejo\\appdata\\local\\programs\\python\\python310\\lib\\site-packages (from jupyter-server<3,>=1.16.0->jupyterlab) (3.6.2)\n",
      "Requirement already satisfied: websocket-client in c:\\users\\alejo\\appdata\\local\\programs\\python\\python310\\lib\\site-packages (from jupyter-server<3,>=1.16.0->jupyterlab) (1.4.2)\n",
      "Requirement already satisfied: argon2-cffi in c:\\users\\alejo\\appdata\\local\\programs\\python\\python310\\lib\\site-packages (from jupyter-server<3,>=1.16.0->jupyterlab) (21.3.0)\n",
      "Requirement already satisfied: pyzmq>=17 in c:\\users\\alejo\\appdata\\roaming\\python\\python310\\site-packages (from jupyter-server<3,>=1.16.0->jupyterlab) (24.0.1)\n",
      "Requirement already satisfied: terminado>=0.8.3 in c:\\users\\alejo\\appdata\\local\\programs\\python\\python310\\lib\\site-packages (from jupyter-server<3,>=1.16.0->jupyterlab) (0.17.0)\n",
      "Requirement already satisfied: pywinpty in c:\\users\\alejo\\appdata\\local\\programs\\python\\python310\\lib\\site-packages (from jupyter-server<3,>=1.16.0->jupyterlab) (2.0.9)\n",
      "Requirement already satisfied: jupyter-client>=6.1.12 in c:\\users\\alejo\\appdata\\roaming\\python\\python310\\site-packages (from jupyter-server<3,>=1.16.0->jupyterlab) (7.4.4)\n",
      "Requirement already satisfied: nbformat>=5.2.0 in c:\\users\\alejo\\appdata\\local\\programs\\python\\python310\\lib\\site-packages (from jupyter-server<3,>=1.16.0->jupyterlab) (5.7.0)\n",
      "Requirement already satisfied: prometheus-client in c:\\users\\alejo\\appdata\\local\\programs\\python\\python310\\lib\\site-packages (from jupyter-server<3,>=1.16.0->jupyterlab) (0.15.0)\n",
      "Requirement already satisfied: Send2Trash in c:\\users\\alejo\\appdata\\local\\programs\\python\\python310\\lib\\site-packages (from jupyter-server<3,>=1.16.0->jupyterlab) (1.8.0)\n",
      "Requirement already satisfied: nbconvert>=6.4.4 in c:\\users\\alejo\\appdata\\local\\programs\\python\\python310\\lib\\site-packages (from jupyter-server<3,>=1.16.0->jupyterlab) (7.2.3)\n",
      "Requirement already satisfied: sniffio>=1.1 in c:\\users\\alejo\\appdata\\local\\programs\\python\\python310\\lib\\site-packages (from anyio<4,>=3.1.0->jupyter-server<3,>=1.16.0->jupyterlab) (1.3.0)\n",
      "Requirement already satisfied: idna>=2.8 in c:\\users\\alejo\\appdata\\local\\programs\\python\\python310\\lib\\site-packages (from anyio<4,>=3.1.0->jupyter-server<3,>=1.16.0->jupyterlab) (3.4)\n",
      "Requirement already satisfied: entrypoints in c:\\users\\alejo\\appdata\\roaming\\python\\python310\\site-packages (from jupyter-client>=6.1.12->jupyter-server<3,>=1.16.0->jupyterlab) (0.4)\n",
      "Requirement already satisfied: nest-asyncio>=1.5.4 in c:\\users\\alejo\\appdata\\roaming\\python\\python310\\site-packages (from jupyter-client>=6.1.12->jupyter-server<3,>=1.16.0->jupyterlab) (1.5.6)\n",
      "Requirement already satisfied: pywin32>=1.0 in c:\\users\\alejo\\appdata\\roaming\\python\\python310\\site-packages (from jupyter-core->jupyterlab) (305)\n",
      "Requirement already satisfied: json5 in c:\\users\\alejo\\appdata\\local\\programs\\python\\python310\\lib\\site-packages (from jupyterlab-server~=2.10->jupyterlab) (0.9.10)\n",
      "Requirement already satisfied: jsonschema>=3.0.1 in c:\\users\\alejo\\appdata\\local\\programs\\python\\python310\\lib\\site-packages (from jupyterlab-server~=2.10->jupyterlab) (4.17.0)\n",
      "Requirement already satisfied: requests in c:\\users\\alejo\\appdata\\local\\programs\\python\\python310\\lib\\site-packages (from jupyterlab-server~=2.10->jupyterlab) (2.28.1)\n",
      "Requirement already satisfied: babel in c:\\users\\alejo\\appdata\\local\\programs\\python\\python310\\lib\\site-packages (from jupyterlab-server~=2.10->jupyterlab) (2.11.0)\n",
      "Requirement already satisfied: pyrsistent!=0.17.0,!=0.17.1,!=0.17.2,>=0.14.0 in c:\\users\\alejo\\appdata\\local\\programs\\python\\python310\\lib\\site-packages (from jsonschema>=3.0.1->jupyterlab-server~=2.10->jupyterlab) (0.19.2)\n",
      "Requirement already satisfied: attrs>=17.4.0 in c:\\users\\alejo\\appdata\\local\\programs\\python\\python310\\lib\\site-packages (from jsonschema>=3.0.1->jupyterlab-server~=2.10->jupyterlab) (22.1.0)\n",
      "Requirement already satisfied: pandocfilters>=1.4.1 in c:\\users\\alejo\\appdata\\local\\programs\\python\\python310\\lib\\site-packages (from nbconvert>=6.4.4->jupyter-server<3,>=1.16.0->jupyterlab) (1.5.0)\n",
      "Requirement already satisfied: defusedxml in c:\\users\\alejo\\appdata\\local\\programs\\python\\python310\\lib\\site-packages (from nbconvert>=6.4.4->jupyter-server<3,>=1.16.0->jupyterlab) (0.7.1)\n",
      "Requirement already satisfied: tinycss2 in c:\\users\\alejo\\appdata\\local\\programs\\python\\python310\\lib\\site-packages (from nbconvert>=6.4.4->jupyter-server<3,>=1.16.0->jupyterlab) (1.2.1)\n",
      "Requirement already satisfied: beautifulsoup4 in c:\\users\\alejo\\appdata\\local\\programs\\python\\python310\\lib\\site-packages (from nbconvert>=6.4.4->jupyter-server<3,>=1.16.0->jupyterlab) (4.11.1)\n",
      "Requirement already satisfied: nbclient>=0.5.0 in c:\\users\\alejo\\appdata\\local\\programs\\python\\python310\\lib\\site-packages (from nbconvert>=6.4.4->jupyter-server<3,>=1.16.0->jupyterlab) (0.7.0)\n",
      "Requirement already satisfied: jupyterlab-pygments in c:\\users\\alejo\\appdata\\local\\programs\\python\\python310\\lib\\site-packages (from nbconvert>=6.4.4->jupyter-server<3,>=1.16.0->jupyterlab) (0.2.2)\n",
      "Requirement already satisfied: bleach in c:\\users\\alejo\\appdata\\local\\programs\\python\\python310\\lib\\site-packages (from nbconvert>=6.4.4->jupyter-server<3,>=1.16.0->jupyterlab) (5.0.1)\n",
      "Requirement already satisfied: mistune<3,>=2.0.3 in c:\\users\\alejo\\appdata\\local\\programs\\python\\python310\\lib\\site-packages (from nbconvert>=6.4.4->jupyter-server<3,>=1.16.0->jupyterlab) (2.0.4)\n",
      "Requirement already satisfied: fastjsonschema in c:\\users\\alejo\\appdata\\local\\programs\\python\\python310\\lib\\site-packages (from nbformat>=5.2.0->jupyter-server<3,>=1.16.0->jupyterlab) (2.16.2)\n",
      "Requirement already satisfied: ipython-genutils in c:\\users\\alejo\\appdata\\local\\programs\\python\\python310\\lib\\site-packages (from notebook<7->jupyterlab) (0.2.0)\n",
      "Requirement already satisfied: ipykernel in c:\\users\\alejo\\appdata\\roaming\\python\\python310\\site-packages (from notebook<7->jupyterlab) (6.17.0)\n",
      "Requirement already satisfied: notebook-shim>=0.1.0 in c:\\users\\alejo\\appdata\\local\\programs\\python\\python310\\lib\\site-packages (from nbclassic->jupyterlab) (0.2.2)\n",
      "Requirement already satisfied: wcwidth in c:\\users\\alejo\\appdata\\roaming\\python\\python310\\site-packages (from prompt-toolkit<3.1.0,>3.0.1->ipython) (0.2.5)\n",
      "Requirement already satisfied: google-auth<3,>=1.6.3 in c:\\users\\alejo\\appdata\\local\\programs\\python\\python310\\lib\\site-packages (from tensorboard<2.11,>=2.10->tensorflow) (2.14.1)\n",
      "Requirement already satisfied: tensorboard-data-server<0.7.0,>=0.6.0 in c:\\users\\alejo\\appdata\\local\\programs\\python\\python310\\lib\\site-packages (from tensorboard<2.11,>=2.10->tensorflow) (0.6.1)\n",
      "Requirement already satisfied: werkzeug>=1.0.1 in c:\\users\\alejo\\appdata\\local\\programs\\python\\python310\\lib\\site-packages (from tensorboard<2.11,>=2.10->tensorflow) (2.2.2)\n",
      "Requirement already satisfied: tensorboard-plugin-wit>=1.6.0 in c:\\users\\alejo\\appdata\\local\\programs\\python\\python310\\lib\\site-packages (from tensorboard<2.11,>=2.10->tensorflow) (1.8.1)\n",
      "Requirement already satisfied: google-auth-oauthlib<0.5,>=0.4.1 in c:\\users\\alejo\\appdata\\local\\programs\\python\\python310\\lib\\site-packages (from tensorboard<2.11,>=2.10->tensorflow) (0.4.6)\n",
      "Requirement already satisfied: markdown>=2.6.8 in c:\\users\\alejo\\appdata\\local\\programs\\python\\python310\\lib\\site-packages (from tensorboard<2.11,>=2.10->tensorflow) (3.4.1)\n",
      "Requirement already satisfied: pyasn1-modules>=0.2.1 in c:\\users\\alejo\\appdata\\local\\programs\\python\\python310\\lib\\site-packages (from google-auth<3,>=1.6.3->tensorboard<2.11,>=2.10->tensorflow) (0.2.8)\n",
      "Requirement already satisfied: rsa<5,>=3.1.4 in c:\\users\\alejo\\appdata\\local\\programs\\python\\python310\\lib\\site-packages (from google-auth<3,>=1.6.3->tensorboard<2.11,>=2.10->tensorflow) (4.9)\n",
      "Requirement already satisfied: cachetools<6.0,>=2.0.0 in c:\\users\\alejo\\appdata\\local\\programs\\python\\python310\\lib\\site-packages (from google-auth<3,>=1.6.3->tensorboard<2.11,>=2.10->tensorflow) (5.2.0)\n",
      "Requirement already satisfied: requests-oauthlib>=0.7.0 in c:\\users\\alejo\\appdata\\local\\programs\\python\\python310\\lib\\site-packages (from google-auth-oauthlib<0.5,>=0.4.1->tensorboard<2.11,>=2.10->tensorflow) (1.3.1)\n",
      "Requirement already satisfied: pyasn1<0.5.0,>=0.4.6 in c:\\users\\alejo\\appdata\\local\\programs\\python\\python310\\lib\\site-packages (from pyasn1-modules>=0.2.1->google-auth<3,>=1.6.3->tensorboard<2.11,>=2.10->tensorflow) (0.4.8)\n",
      "Requirement already satisfied: charset-normalizer<3,>=2 in c:\\users\\alejo\\appdata\\local\\programs\\python\\python310\\lib\\site-packages (from requests->jupyterlab-server~=2.10->jupyterlab) (2.1.1)\n",
      "Requirement already satisfied: urllib3<1.27,>=1.21.1 in c:\\users\\alejo\\appdata\\local\\programs\\python\\python310\\lib\\site-packages (from requests->jupyterlab-server~=2.10->jupyterlab) (1.26.12)\n",
      "Requirement already satisfied: certifi>=2017.4.17 in c:\\users\\alejo\\appdata\\local\\programs\\python\\python310\\lib\\site-packages (from requests->jupyterlab-server~=2.10->jupyterlab) (2022.9.24)\n",
      "Requirement already satisfied: oauthlib>=3.0.0 in c:\\users\\alejo\\appdata\\local\\programs\\python\\python310\\lib\\site-packages (from requests-oauthlib>=0.7.0->google-auth-oauthlib<0.5,>=0.4.1->tensorboard<2.11,>=2.10->tensorflow) (3.2.2)\n",
      "Requirement already satisfied: argon2-cffi-bindings in c:\\users\\alejo\\appdata\\local\\programs\\python\\python310\\lib\\site-packages (from argon2-cffi->jupyter-server<3,>=1.16.0->jupyterlab) (21.2.0)\n",
      "Requirement already satisfied: cffi>=1.0.1 in c:\\users\\alejo\\appdata\\local\\programs\\python\\python310\\lib\\site-packages (from argon2-cffi-bindings->argon2-cffi->jupyter-server<3,>=1.16.0->jupyterlab) (1.15.1)\n",
      "Requirement already satisfied: pycparser in c:\\users\\alejo\\appdata\\local\\programs\\python\\python310\\lib\\site-packages (from cffi>=1.0.1->argon2-cffi-bindings->argon2-cffi->jupyter-server<3,>=1.16.0->jupyterlab) (2.21)\n",
      "Requirement already satisfied: soupsieve>1.2 in c:\\users\\alejo\\appdata\\local\\programs\\python\\python310\\lib\\site-packages (from beautifulsoup4->nbconvert>=6.4.4->jupyter-server<3,>=1.16.0->jupyterlab) (2.3.2.post1)\n",
      "Requirement already satisfied: webencodings in c:\\users\\alejo\\appdata\\local\\programs\\python\\python310\\lib\\site-packages (from bleach->nbconvert>=6.4.4->jupyter-server<3,>=1.16.0->jupyterlab) (0.5.1)\n",
      "Requirement already satisfied: debugpy>=1.0 in c:\\users\\alejo\\appdata\\roaming\\python\\python310\\site-packages (from ipykernel->notebook<7->jupyterlab) (1.6.3)\n",
      "Requirement already satisfied: psutil in c:\\users\\alejo\\appdata\\roaming\\python\\python310\\site-packages (from ipykernel->notebook<7->jupyterlab) (5.9.4)\n",
      "Requirement already satisfied: asttokens>=2.1.0 in c:\\users\\alejo\\appdata\\roaming\\python\\python310\\site-packages (from stack-data->ipython) (2.1.0)\n",
      "Requirement already satisfied: executing>=1.2.0 in c:\\users\\alejo\\appdata\\roaming\\python\\python310\\site-packages (from stack-data->ipython) (1.2.0)\n",
      "Requirement already satisfied: pure-eval in c:\\users\\alejo\\appdata\\roaming\\python\\python310\\site-packages (from stack-data->ipython) (0.2.2)\n",
      "Note: you may need to restart the kernel to use updated packages.\n"
     ]
    },
    {
     "name": "stderr",
     "output_type": "stream",
     "text": [
      "WARNING: You are using pip version 21.2.4; however, version 22.3.1 is available.\n",
      "You should consider upgrading via the 'c:\\Users\\Alejo\\AppData\\Local\\Programs\\Python\\Python310\\python.exe -m pip install --upgrade pip' command.\n"
     ]
    }
   ],
   "source": [
    "%pip install numpy pandas matplotlib seaborn ipython jupyterlab Pillow pyscreenshot tensorflow scikit-learn"
   ]
  },
  {
   "cell_type": "markdown",
   "metadata": {},
   "source": [
    "### Importing Required Libraries"
   ]
  },
  {
   "cell_type": "code",
   "execution_count": 10,
   "metadata": {},
   "outputs": [],
   "source": [
    "import numpy as np\n",
    "import pandas as pd\n",
    "import seaborn as sb\n",
    "import matplotlib.pyplot as plt\n",
    "from sklearn.model_selection import train_test_split\n",
    "import tensorflow as tf"
   ]
  },
  {
   "cell_type": "markdown",
   "metadata": {},
   "source": [
    "### Processing NFL Datasets"
   ]
  },
  {
   "cell_type": "code",
   "execution_count": 11,
   "metadata": {},
   "outputs": [],
   "source": [
    "game_data = pd.read_csv('C:/Users/Alejo/OneDrive/Documents/CPSC502//NFLData/games.csv')\n",
    "pff_scouting_data = pd.read_csv('C:/Users/Alejo/OneDrive/Documents/CPSC502/NFLData/pffScoutingData.csv')\n",
    "player_data = pd.read_csv('C:/Users/Alejo/OneDrive/Documents/CPSC502/NFLData/players.csv')\n",
    "play_data = pd.read_csv('C:/Users/Alejo/OneDrive/Documents/CPSC502/NFLData/plays.csv')\n",
    "tracking_w1_data = pd.read_csv('C:/Users/Alejo/OneDrive/Documents/CPSC502/NFLData/week1.csv')\n",
    "tracking_w2_data = pd.read_csv('C:/Users/Alejo/OneDrive/Documents/CPSC502/NFLData/week2.csv')\n",
    "tracking_w3_data = pd.read_csv('C:/Users/Alejo/OneDrive/Documents/CPSC502/NFLData/week3.csv')\n",
    "tracking_w4_data = pd.read_csv('C:/Users/Alejo/OneDrive/Documents/CPSC502/NFLData/week4.csv')\n",
    "tracking_w5_data = pd.read_csv('C:/Users/Alejo/OneDrive/Documents/CPSC502/NFLData/week5.csv')\n",
    "tracking_w6_data = pd.read_csv('C:/Users/Alejo/OneDrive/Documents/CPSC502/NFLData/week6.csv')\n",
    "tracking_w7_data = pd.read_csv('C:/Users/Alejo/OneDrive/Documents/CPSC502/NFLData/week7.csv')\n",
    "tracking_w8_data = pd.read_csv('C:/Users/Alejo/OneDrive/Documents/CPSC502/NFLData/week8.csv')"
   ]
  },
  {
   "cell_type": "markdown",
   "metadata": {},
   "source": [
    "### Displaying Game Data Format"
   ]
  },
  {
   "cell_type": "code",
   "execution_count": 12,
   "metadata": {},
   "outputs": [
    {
     "name": "stdout",
     "output_type": "stream",
     "text": [
      "-- Printing first 5 rows --\n",
      "\n",
      "\n",
      "       gameId  season  week    gameDate gameTimeEastern homeTeamAbbr  \\\n",
      "0  2021090900    2021     1  09/09/2021        20:20:00           TB   \n",
      "1  2021091200    2021     1  09/12/2021        13:00:00          ATL   \n",
      "2  2021091201    2021     1  09/12/2021        13:00:00          BUF   \n",
      "3  2021091202    2021     1  09/12/2021        13:00:00          CAR   \n",
      "4  2021091203    2021     1  09/12/2021        13:00:00          CIN   \n",
      "\n",
      "  visitorTeamAbbr  \n",
      "0             DAL  \n",
      "1             PHI  \n",
      "2             PIT  \n",
      "3             NYJ  \n",
      "4             MIN  \n",
      "\n",
      "\n",
      "-- Printing Columns --\n",
      "\n",
      "\n",
      "Index(['gameId', 'season', 'week', 'gameDate', 'gameTimeEastern',\n",
      "       'homeTeamAbbr', 'visitorTeamAbbr'],\n",
      "      dtype='object')\n"
     ]
    }
   ],
   "source": [
    "print(\"-- Printing first 5 rows --\\n\\n\")\n",
    "print(game_data.head(5))\n",
    "print(\"\\n\\n-- Printing Columns --\\n\\n\")\n",
    "print(game_data.columns)"
   ]
  },
  {
   "cell_type": "markdown",
   "metadata": {},
   "source": [
    "### Displaying PFF Scouting Data Format"
   ]
  },
  {
   "cell_type": "code",
   "execution_count": 13,
   "metadata": {},
   "outputs": [
    {
     "name": "stdout",
     "output_type": "stream",
     "text": [
      "-- Printing first 5 rows --\n",
      "\n",
      "\n",
      "       gameId  playId  nflId    pff_role pff_positionLinedUp  pff_hit  \\\n",
      "0  2021090900      97  25511        Pass                  QB      NaN   \n",
      "1  2021090900      97  35481  Pass Route                TE-L      NaN   \n",
      "2  2021090900      97  35634  Pass Route                 LWR      NaN   \n",
      "3  2021090900      97  39985  Pass Route                HB-R      NaN   \n",
      "4  2021090900      97  40151  Pass Block                   C      NaN   \n",
      "\n",
      "   pff_hurry  pff_sack  pff_beatenByDefender  pff_hitAllowed  \\\n",
      "0        NaN       NaN                   NaN             NaN   \n",
      "1        NaN       NaN                   NaN             NaN   \n",
      "2        NaN       NaN                   NaN             NaN   \n",
      "3        NaN       NaN                   NaN             NaN   \n",
      "4        NaN       NaN                   0.0             0.0   \n",
      "\n",
      "   pff_hurryAllowed  pff_sackAllowed  pff_nflIdBlockedPlayer pff_blockType  \\\n",
      "0               NaN              NaN                     NaN           NaN   \n",
      "1               NaN              NaN                     NaN           NaN   \n",
      "2               NaN              NaN                     NaN           NaN   \n",
      "3               NaN              NaN                     NaN           NaN   \n",
      "4               0.0              0.0                 44955.0            SW   \n",
      "\n",
      "   pff_backFieldBlock  \n",
      "0                 NaN  \n",
      "1                 NaN  \n",
      "2                 NaN  \n",
      "3                 NaN  \n",
      "4                 0.0  \n",
      "\n",
      "\n",
      "-- Printing Columns --\n",
      "\n",
      "\n",
      "Index(['gameId', 'playId', 'nflId', 'pff_role', 'pff_positionLinedUp',\n",
      "       'pff_hit', 'pff_hurry', 'pff_sack', 'pff_beatenByDefender',\n",
      "       'pff_hitAllowed', 'pff_hurryAllowed', 'pff_sackAllowed',\n",
      "       'pff_nflIdBlockedPlayer', 'pff_blockType', 'pff_backFieldBlock'],\n",
      "      dtype='object')\n"
     ]
    }
   ],
   "source": [
    "print(\"-- Printing first 5 rows --\\n\\n\")\n",
    "print(pff_scouting_data.head(5))\n",
    "print(\"\\n\\n-- Printing Columns --\\n\\n\")\n",
    "print(pff_scouting_data.columns)"
   ]
  },
  {
   "cell_type": "markdown",
   "metadata": {},
   "source": [
    "### Displaying Player Data Format"
   ]
  },
  {
   "cell_type": "code",
   "execution_count": 14,
   "metadata": {},
   "outputs": [
    {
     "name": "stdout",
     "output_type": "stream",
     "text": [
      "-- Printing first 5 rows --\n",
      "\n",
      "\n",
      "   nflId height  weight   birthDate collegeName officialPosition  \\\n",
      "0  25511    6-4     225  1977-08-03    Michigan               QB   \n",
      "1  28963    6-5     240  1982-03-02   Miami, O.               QB   \n",
      "2  29550    6-4     328  1982-01-22    Arkansas                T   \n",
      "3  29851    6-2     225  1983-12-02  California               QB   \n",
      "4  30078    6-2     228  1982-11-24     Harvard               QB   \n",
      "\n",
      "          displayName  \n",
      "0           Tom Brady  \n",
      "1  Ben Roethlisberger  \n",
      "2        Jason Peters  \n",
      "3       Aaron Rodgers  \n",
      "4    Ryan Fitzpatrick  \n",
      "\n",
      "\n",
      "-- Printing Columns --\n",
      "\n",
      "\n",
      "Index(['nflId', 'height', 'weight', 'birthDate', 'collegeName',\n",
      "       'officialPosition', 'displayName'],\n",
      "      dtype='object')\n"
     ]
    }
   ],
   "source": [
    "print(\"-- Printing first 5 rows --\\n\\n\")\n",
    "print(player_data.head(5))\n",
    "print(\"\\n\\n-- Printing Columns --\\n\\n\")\n",
    "print(player_data.columns)"
   ]
  },
  {
   "cell_type": "markdown",
   "metadata": {},
   "source": [
    "### Displaying Play Data Format"
   ]
  },
  {
   "cell_type": "code",
   "execution_count": 15,
   "metadata": {},
   "outputs": [
    {
     "name": "stdout",
     "output_type": "stream",
     "text": [
      "-- Printing first 5 rows --\n",
      "\n",
      "\n",
      "       gameId  playId                                    playDescription  \\\n",
      "0  2021090900      97  (13:33) (Shotgun) T.Brady pass incomplete deep...   \n",
      "1  2021090900     137  (13:18) (Shotgun) D.Prescott pass deep left to...   \n",
      "2  2021090900     187  (12:23) (Shotgun) D.Prescott pass short middle...   \n",
      "3  2021090900     282  (9:56) D.Prescott pass incomplete deep left to...   \n",
      "4  2021090900     349  (9:46) (Shotgun) D.Prescott pass incomplete sh...   \n",
      "\n",
      "   quarter  down  yardsToGo possessionTeam defensiveTeam yardlineSide  \\\n",
      "0        1     3          2             TB           DAL           TB   \n",
      "1        1     1         10            DAL            TB          DAL   \n",
      "2        1     2          6            DAL            TB          DAL   \n",
      "3        1     1         10            DAL            TB           TB   \n",
      "4        1     3         15            DAL            TB           TB   \n",
      "\n",
      "   yardlineNumber  ... foulNFLId3  absoluteYardlineNumber  offenseFormation  \\\n",
      "0              33  ...        NaN                    43.0           SHOTGUN   \n",
      "1               2  ...        NaN                   108.0             EMPTY   \n",
      "2              34  ...        NaN                    76.0           SHOTGUN   \n",
      "3              39  ...        NaN                    49.0        SINGLEBACK   \n",
      "4              44  ...        NaN                    54.0           SHOTGUN   \n",
      "\n",
      "         personnelO  defendersInBox        personnelD  dropBackType  \\\n",
      "0  1 RB, 1 TE, 3 WR             6.0  4 DL, 2 LB, 5 DB   TRADITIONAL   \n",
      "1  1 RB, 2 TE, 2 WR             6.0  4 DL, 4 LB, 3 DB   TRADITIONAL   \n",
      "2  0 RB, 2 TE, 3 WR             6.0  3 DL, 3 LB, 5 DB   TRADITIONAL   \n",
      "3  1 RB, 2 TE, 2 WR             6.0  4 DL, 3 LB, 4 DB   TRADITIONAL   \n",
      "4  1 RB, 1 TE, 3 WR             7.0  3 DL, 4 LB, 4 DB   TRADITIONAL   \n",
      "\n",
      "  pff_playAction  pff_passCoverage pff_passCoverageType  \n",
      "0              0           Cover-1                  Man  \n",
      "1              0           Cover-3                 Zone  \n",
      "2              0           Cover-3                 Zone  \n",
      "3              1           Cover-3                 Zone  \n",
      "4              0           Cover-3                 Zone  \n",
      "\n",
      "[5 rows x 32 columns]\n",
      "\n",
      "\n",
      "-- Printing Columns --\n",
      "\n",
      "\n",
      "Index(['gameId', 'playId', 'playDescription', 'quarter', 'down', 'yardsToGo',\n",
      "       'possessionTeam', 'defensiveTeam', 'yardlineSide', 'yardlineNumber',\n",
      "       'gameClock', 'preSnapHomeScore', 'preSnapVisitorScore', 'passResult',\n",
      "       'penaltyYards', 'prePenaltyPlayResult', 'playResult', 'foulName1',\n",
      "       'foulNFLId1', 'foulName2', 'foulNFLId2', 'foulName3', 'foulNFLId3',\n",
      "       'absoluteYardlineNumber', 'offenseFormation', 'personnelO',\n",
      "       'defendersInBox', 'personnelD', 'dropBackType', 'pff_playAction',\n",
      "       'pff_passCoverage', 'pff_passCoverageType'],\n",
      "      dtype='object')\n"
     ]
    }
   ],
   "source": [
    "print(\"-- Printing first 5 rows --\\n\\n\")\n",
    "print(play_data.head(5))\n",
    "print(\"\\n\\n-- Printing Columns --\\n\\n\")\n",
    "print(play_data.columns)"
   ]
  },
  {
   "cell_type": "markdown",
   "metadata": {},
   "source": [
    "### Displaying Tracking Data Format (Week 1)"
   ]
  },
  {
   "cell_type": "code",
   "execution_count": 16,
   "metadata": {},
   "outputs": [
    {
     "name": "stdout",
     "output_type": "stream",
     "text": [
      "-- Printing first 5 rows --\n",
      "\n",
      "\n",
      "       gameId  playId    nflId  frameId                     time  \\\n",
      "0  2021090900      97  25511.0        1  2021-09-10T00:26:31.100   \n",
      "1  2021090900      97  25511.0        2  2021-09-10T00:26:31.200   \n",
      "2  2021090900      97  25511.0        3  2021-09-10T00:26:31.300   \n",
      "3  2021090900      97  25511.0        4  2021-09-10T00:26:31.400   \n",
      "4  2021090900      97  25511.0        5  2021-09-10T00:26:31.500   \n",
      "\n",
      "   jerseyNumber team playDirection      x      y     s     a   dis       o  \\\n",
      "0          12.0   TB         right  37.77  24.22  0.29  0.30  0.03  165.16   \n",
      "1          12.0   TB         right  37.78  24.22  0.23  0.11  0.02  164.33   \n",
      "2          12.0   TB         right  37.78  24.24  0.16  0.10  0.01  160.24   \n",
      "3          12.0   TB         right  37.73  24.25  0.15  0.24  0.06  152.13   \n",
      "4          12.0   TB         right  37.69  24.26  0.25  0.18  0.04  148.33   \n",
      "\n",
      "      dir event  \n",
      "0   84.99  None  \n",
      "1   92.87  None  \n",
      "2   68.55  None  \n",
      "3  296.85  None  \n",
      "4  287.55  None  \n",
      "\n",
      "\n",
      "-- Printing Columns --\n",
      "\n",
      "\n",
      "Index(['gameId', 'playId', 'nflId', 'frameId', 'time', 'jerseyNumber', 'team',\n",
      "       'playDirection', 'x', 'y', 's', 'a', 'dis', 'o', 'dir', 'event'],\n",
      "      dtype='object')\n"
     ]
    }
   ],
   "source": [
    "print(\"-- Printing first 5 rows --\\n\\n\")\n",
    "print(tracking_w1_data.head(5))\n",
    "print(\"\\n\\n-- Printing Columns --\\n\\n\")\n",
    "print(tracking_w1_data.columns)"
   ]
  }
 ],
 "metadata": {
  "kernelspec": {
   "display_name": "Python 3.10.1 64-bit",
   "language": "python",
   "name": "python3"
  },
  "language_info": {
   "codemirror_mode": {
    "name": "ipython",
    "version": 3
   },
   "file_extension": ".py",
   "mimetype": "text/x-python",
   "name": "python",
   "nbconvert_exporter": "python",
   "pygments_lexer": "ipython3",
   "version": "3.10.1"
  },
  "orig_nbformat": 4,
  "vscode": {
   "interpreter": {
    "hash": "0d9db2acd79fc802845d33905a24c499b3c5b632a8047d75c602e59109c51bd3"
   }
  }
 },
 "nbformat": 4,
 "nbformat_minor": 2
}
